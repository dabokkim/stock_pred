{
  "nbformat": 4,
  "nbformat_minor": 0,
  "metadata": {
    "colab": {
      "name": "순환신경망_주식.ipynb",
      "provenance": [],
      "collapsed_sections": [],
      "authorship_tag": "ABX9TyOvyjcp+PWbVe2JG52y+Fzz",
      "include_colab_link": true
    },
    "kernelspec": {
      "name": "python3",
      "display_name": "Python 3"
    },
    "language_info": {
      "name": "python"
    },
    "accelerator": "GPU"
  },
  "cells": [
    {
      "cell_type": "markdown",
      "metadata": {
        "id": "view-in-github",
        "colab_type": "text"
      },
      "source": [
        "<a href=\"https://colab.research.google.com/github/id-gxon/stockpred/blob/main/%EC%88%9C%ED%99%98%EC%8B%A0%EA%B2%BD%EB%A7%9D_%EC%A3%BC%EC%8B%9D.ipynb\" target=\"_parent\"><img src=\"https://colab.research.google.com/assets/colab-badge.svg\" alt=\"Open In Colab\"/></a>"
      ]
    },
    {
      "cell_type": "code",
      "execution_count": 189,
      "metadata": {
        "id": "6dPC5aQV9KDd"
      },
      "outputs": [],
      "source": [
        "from keras.models import Sequential\n",
        "from keras.layers import SimpleRNN, Dense\n",
        "from sklearn.preprocessing import MinMaxScaler\n",
        "from sklearn.metrics import mean_squared_error\n",
        "from sklearn.model_selection import train_test_split\n",
        "import math\n",
        "import numpy as np\n",
        "import matplotlib.pyplot as plt\n",
        "\n",
        "import time\n",
        "import pandas_datareader as pdr # 주식데이터 크롤링\n",
        "\n",
        "from jupyterthemes import jtplot # 시각화 테마 변경\n",
        "jtplot.style(theme = 'grade3') "
      ]
    },
    {
      "cell_type": "code",
      "source": [
        "# 실행 오류 발생시\n",
        "\n",
        "# 1. pandas, pandas-datareader 업그레이드\n",
        "# pip install --upgrade pandas\n",
        "# pip install --upgrade pandas-datareader \n",
        "\n",
        "# 2. 런타임 초기화\n",
        "# 메뉴의 '런타임'-'런타임 초기화' or '런타임 다시 시작'"
      ],
      "metadata": {
        "id": "dw_QgpJyk_gZ"
      },
      "execution_count": 178,
      "outputs": []
    },
    {
      "cell_type": "code",
      "source": [
        "pip install --upgrade pandas"
      ],
      "metadata": {
        "colab": {
          "base_uri": "https://localhost:8080/"
        },
        "id": "KpzdwK23aR3e",
        "outputId": "60de7624-820b-4aa4-9400-351cb59c7991"
      },
      "execution_count": 179,
      "outputs": [
        {
          "output_type": "stream",
          "name": "stdout",
          "text": [
            "Requirement already satisfied: pandas in /usr/local/lib/python3.7/dist-packages (1.3.5)\n",
            "Requirement already satisfied: numpy>=1.17.3 in /usr/local/lib/python3.7/dist-packages (from pandas) (1.19.5)\n",
            "Requirement already satisfied: python-dateutil>=2.7.3 in /usr/local/lib/python3.7/dist-packages (from pandas) (2.8.2)\n",
            "Requirement already satisfied: pytz>=2017.3 in /usr/local/lib/python3.7/dist-packages (from pandas) (2018.9)\n",
            "Requirement already satisfied: six>=1.5 in /usr/local/lib/python3.7/dist-packages (from python-dateutil>=2.7.3->pandas) (1.15.0)\n"
          ]
        }
      ]
    },
    {
      "cell_type": "code",
      "source": [
        "pip install --upgrade pandas-datareader"
      ],
      "metadata": {
        "colab": {
          "base_uri": "https://localhost:8080/"
        },
        "id": "Cl6uRrUsacHN",
        "outputId": "e3d82cab-fa41-44c5-a5ff-3bb36f119d89"
      },
      "execution_count": 180,
      "outputs": [
        {
          "output_type": "stream",
          "name": "stdout",
          "text": [
            "Requirement already satisfied: pandas-datareader in /usr/local/lib/python3.7/dist-packages (0.10.0)\n",
            "Requirement already satisfied: pandas>=0.23 in /usr/local/lib/python3.7/dist-packages (from pandas-datareader) (1.3.5)\n",
            "Requirement already satisfied: lxml in /usr/local/lib/python3.7/dist-packages (from pandas-datareader) (4.2.6)\n",
            "Requirement already satisfied: requests>=2.19.0 in /usr/local/lib/python3.7/dist-packages (from pandas-datareader) (2.23.0)\n",
            "Requirement already satisfied: pytz>=2017.3 in /usr/local/lib/python3.7/dist-packages (from pandas>=0.23->pandas-datareader) (2018.9)\n",
            "Requirement already satisfied: python-dateutil>=2.7.3 in /usr/local/lib/python3.7/dist-packages (from pandas>=0.23->pandas-datareader) (2.8.2)\n",
            "Requirement already satisfied: numpy>=1.17.3 in /usr/local/lib/python3.7/dist-packages (from pandas>=0.23->pandas-datareader) (1.19.5)\n",
            "Requirement already satisfied: six>=1.5 in /usr/local/lib/python3.7/dist-packages (from python-dateutil>=2.7.3->pandas>=0.23->pandas-datareader) (1.15.0)\n",
            "Requirement already satisfied: idna<3,>=2.5 in /usr/local/lib/python3.7/dist-packages (from requests>=2.19.0->pandas-datareader) (2.10)\n",
            "Requirement already satisfied: urllib3!=1.25.0,!=1.25.1,<1.26,>=1.21.1 in /usr/local/lib/python3.7/dist-packages (from requests>=2.19.0->pandas-datareader) (1.24.3)\n",
            "Requirement already satisfied: certifi>=2017.4.17 in /usr/local/lib/python3.7/dist-packages (from requests>=2.19.0->pandas-datareader) (2021.10.8)\n",
            "Requirement already satisfied: chardet<4,>=3.0.2 in /usr/local/lib/python3.7/dist-packages (from requests>=2.19.0->pandas-datareader) (3.0.4)\n"
          ]
        }
      ]
    },
    {
      "cell_type": "code",
      "source": [
        "code = '005930.KS' # 사용자로부터 종목코드를 받음\n",
        "start = '2021-01-01' # \n",
        "end='2022-01-26'\n",
        "epochs = 100"
      ],
      "metadata": {
        "id": "Ge650CmttpRG"
      },
      "execution_count": 186,
      "outputs": []
    },
    {
      "cell_type": "code",
      "source": [
        "def rnn(code, start, end): # 순환신경망(RNN)분석 함수\n",
        "    df = pdr.get_data_yahoo(code, start=start, end=end).reset_index()  # 주식 데이터 크롤링\n",
        "    dataset = df['Close'].values # 종가 데이터 추출\n",
        "    dataset = dataset.reshape(dataset.shape[0], 1) # 1차원배열을 2차원으로 변경\n",
        "    dataset = dataset.astype('float32') # int -> float변환\n",
        "    scaler = MinMaxScaler(feature_range=(0, 0.9)) # 최대값을 0.9로 설정\n",
        "    Dataset = scaler.fit_transform(dataset)\n",
        "    train_data, test_data = train_test_split(Dataset, test_size=0.2, shuffle=False) # 8:2로 tarin, test 분리\n",
        "\n",
        "    def create_dataset(dataset, look_back): # 종속변수와 독립변수를 생성하는 함수\n",
        "        x_data = [] # 빈 리스트 생성\n",
        "        y_data = []\n",
        "\n",
        "        for i in range(len(dataset) - look_back):\n",
        "            data = dataset[i: (i + look_back), 0]\n",
        "            x_data.append(data)\n",
        "            y_data.append(dataset[i + look_back, 0])\n",
        "        return np.array(x_data), np.array(y_data)\n",
        "\n",
        "    look_back = 7 # 7개의 데이터로 예측\n",
        "    x_train, y_train = create_dataset(train_data, look_back) # train_data 생성\n",
        "    x_test, y_test = create_dataset(test_data, look_back) # test 데이터 생성\n",
        "\n",
        "    X_train = np.reshape(x_train, (x_train.shape[0], 1, x_train.shape[1])) # 3차원으로 변경\n",
        "    X_test = np.reshape(x_test, (x_test.shape[0], 1, x_test.shape[1])) # 3차원으로 변경\n",
        "\n",
        "    model = Sequential() # model 옵션\n",
        "    model.add(SimpleRNN(3, input_shape=(1, look_back)))\n",
        "    model.add(Dense(1, activation=\"linear\"))\n",
        "    model.compile(loss='mse', optimizer='adam')\n",
        "\n",
        "    model.fit(X_train, y_train, epochs=epochs, batch_size=1, verbose=1) # train_data학습\n",
        "\n",
        "    trainPredict = model.predict(X_train) # train_data를 이용하여 예측\n",
        "    testPredict = model.predict(X_test) # test_data를 이용하여 예측\n",
        "    \n",
        "    TrainPredict = scaler.inverse_transform(trainPredict) # Min-Max변환된 값을 원래대로 되돌림\n",
        "    Y_train = scaler.inverse_transform([y_train]) # Min-Max변환된 값을 원래대로 되돌림\n",
        "    TestPredict = scaler.inverse_transform(testPredict) # Min-Max변환된 값을 원래대로 되돌림\n",
        "    Y_test = scaler.inverse_transform([y_test]) # Min-Max변환된 값을 원래대로 되돌림\n",
        "\n",
        "    train_RMSE = math.sqrt(mean_squared_error(Y_train[0], TrainPredict[:, 0])) # train_RMSE\n",
        "    test_RMSE = math.sqrt(mean_squared_error(Y_test[0], TestPredict[:, 0])) # test_RMSE\n",
        "\n",
        "    x_pred = np.zeros(look_back * look_back, dtype = float) # 예측값을 저장할 array생성\n",
        "    x_pred = x_pred.reshape(look_back, 1, look_back) # 3차원으로 변환\n",
        " \n",
        "    for i in range(look_back):\n",
        "      if i == 0:\n",
        "        x_pred[0][0][:-1] = Dataset[-6:].reshape(6) # 최근 6일 데이터를 pred의 1번째 row, 1~6번째 인덱스에 저장\n",
        "        x_pred[0][0][-1] = model.predict(Dataset[-7:].reshape(1, 1, look_back)) # 최근 7일 데이터를 이용한 예측값을 pred의 1번째 row, 7번째 인덱스에 저장\n",
        "      elif i > 0:\n",
        "        x_pred[i][0][:-1] = x_pred[i-1][0][1:] # pred의 이전 row의 2~7번째 데이터를 다음 row의 1~6번째 인덱스에 저장\n",
        "        x_pred[i][0][-1] = model.predict(x_pred[[i-1]]) # pred의 이전 row의 1~7번째 데이터를 이용하여 데이터 예측 후, 다음 row의 7번재 인덱스에 저장\n",
        "\n",
        "    trainPredictPlot = np.zeros(len(dataset) + 7)\n",
        "    trainPredictPlot = trainPredictPlot.reshape(trainPredictPlot.shape[0], 1)\n",
        "    trainPredictPlot[:, :] = np.nan\n",
        "    trainPredictPlot[look_back:len(TrainPredict) + look_back] = TrainPredict\n",
        "    \n",
        "    testPredictPlot = np.zeros(len(dataset) + 7)\n",
        "    testPredictPlot = testPredictPlot.reshape(testPredictPlot.shape[0], 1)\n",
        "    testPredictPlot[:, :] = np.nan\n",
        "    testPredictPlot[len(TrainPredict) + (look_back) * 2 : len(dataset) , :] = TestPredict\n",
        "\n",
        "    predPlot = np.zeros(len(dataset) + 7)\n",
        "    predPlot = predPlot.reshape(predPlot.shape[0], 1)\n",
        "    predPlot[:, :] = np.nan\n",
        "    predPlot[-7:] = x_pred[6].reshape(x_pred.shape[0], 1)\n",
        "    predPlot = scaler.inverse_transform(predPlot) # Min-Max변환된 값을 원래대로 되돌림\n",
        "\n",
        "    result = np.round(predPlot[-7:].reshape(look_back), 2)\n",
        "    result_max = result.max()\n",
        "    result_min = result.min()\n",
        "    \n",
        "    plt.figure(figsize = (20, 10))\n",
        "    plt.plot(dataset, label = \"true\", c = 'green')\n",
        "    plt.plot(trainPredictPlot, label = 'train_predict')\n",
        "    plt.plot(testPredictPlot, label = 'test_predict')\n",
        "    plt.plot(predPlot, label = 'pred')\n",
        "    plt.legend()\n",
        "\n",
        "    plt.show()\n",
        "    return result, result_max, result_min, train_RMSE, test_RMSE\n",
        "\n"
      ],
      "metadata": {
        "id": "ngZ3WJrewrRM"
      },
      "execution_count": 187,
      "outputs": []
    },
    {
      "cell_type": "code",
      "source": [
        "s = time.time()\n",
        "result, result_max, result_min, train_RMSE, test_RMSE = rnn(code, start, end) # 함수 실행\n",
        "e = time.time()\n",
        "\n",
        "print()\n",
        "print()\n",
        "\n",
        "print('코드 진행시간(초) : ', e - s)\n",
        "print()\n",
        "print('prediction : ', result)\n",
        "print('result_max : ', result_max)\n",
        "print('result_min : ', result_min)\n",
        "print('train_RMSE : ', train_RMSE)\n",
        "print('test_RMSE : ', test_RMSE)"
      ],
      "metadata": {
        "colab": {
          "base_uri": "https://localhost:8080/",
          "height": 1000
        },
        "collapsed": true,
        "id": "y-rKfUMYjX6K",
        "outputId": "f1c7735f-b776-421b-badc-7c6461f57381"
      },
      "execution_count": 190,
      "outputs": [
        {
          "output_type": "stream",
          "name": "stdout",
          "text": [
            "Epoch 1/100\n",
            "205/205 [==============================] - 3s 4ms/step - loss: 0.0143\n",
            "Epoch 2/100\n",
            "205/205 [==============================] - 1s 4ms/step - loss: 0.0063\n",
            "Epoch 3/100\n",
            "205/205 [==============================] - 1s 4ms/step - loss: 0.0056\n",
            "Epoch 4/100\n",
            "205/205 [==============================] - 1s 5ms/step - loss: 0.0052\n",
            "Epoch 5/100\n",
            "205/205 [==============================] - 1s 5ms/step - loss: 0.0051\n",
            "Epoch 6/100\n",
            "205/205 [==============================] - 1s 6ms/step - loss: 0.0048\n",
            "Epoch 7/100\n",
            "205/205 [==============================] - 1s 5ms/step - loss: 0.0046\n",
            "Epoch 8/100\n",
            "205/205 [==============================] - 1s 5ms/step - loss: 0.0044\n",
            "Epoch 9/100\n",
            "205/205 [==============================] - 1s 6ms/step - loss: 0.0043\n",
            "Epoch 10/100\n",
            "205/205 [==============================] - 1s 5ms/step - loss: 0.0042\n",
            "Epoch 11/100\n",
            "205/205 [==============================] - 1s 4ms/step - loss: 0.0042\n",
            "Epoch 12/100\n",
            "205/205 [==============================] - 1s 3ms/step - loss: 0.0041\n",
            "Epoch 13/100\n",
            "205/205 [==============================] - 1s 4ms/step - loss: 0.0040\n",
            "Epoch 14/100\n",
            "205/205 [==============================] - 1s 4ms/step - loss: 0.0038\n",
            "Epoch 15/100\n",
            "205/205 [==============================] - 1s 4ms/step - loss: 0.0038\n",
            "Epoch 16/100\n",
            "205/205 [==============================] - 1s 5ms/step - loss: 0.0037\n",
            "Epoch 17/100\n",
            "205/205 [==============================] - 1s 5ms/step - loss: 0.0035\n",
            "Epoch 18/100\n",
            "205/205 [==============================] - 1s 3ms/step - loss: 0.0037\n",
            "Epoch 19/100\n",
            "205/205 [==============================] - 1s 4ms/step - loss: 0.0035\n",
            "Epoch 20/100\n",
            "205/205 [==============================] - 1s 4ms/step - loss: 0.0034\n",
            "Epoch 21/100\n",
            "205/205 [==============================] - 1s 4ms/step - loss: 0.0033\n",
            "Epoch 22/100\n",
            "205/205 [==============================] - 1s 4ms/step - loss: 0.0033\n",
            "Epoch 23/100\n",
            "205/205 [==============================] - 1s 4ms/step - loss: 0.0032\n",
            "Epoch 24/100\n",
            "205/205 [==============================] - 0s 2ms/step - loss: 0.0031\n",
            "Epoch 25/100\n",
            "205/205 [==============================] - 0s 2ms/step - loss: 0.0031\n",
            "Epoch 26/100\n",
            "205/205 [==============================] - 0s 2ms/step - loss: 0.0030\n",
            "Epoch 27/100\n",
            "205/205 [==============================] - 0s 2ms/step - loss: 0.0029\n",
            "Epoch 28/100\n",
            "205/205 [==============================] - 0s 2ms/step - loss: 0.0029\n",
            "Epoch 29/100\n",
            "205/205 [==============================] - 0s 2ms/step - loss: 0.0028\n",
            "Epoch 30/100\n",
            "205/205 [==============================] - 0s 2ms/step - loss: 0.0029\n",
            "Epoch 31/100\n",
            "205/205 [==============================] - 0s 2ms/step - loss: 0.0027\n",
            "Epoch 32/100\n",
            "205/205 [==============================] - 0s 2ms/step - loss: 0.0027\n",
            "Epoch 33/100\n",
            "205/205 [==============================] - 0s 2ms/step - loss: 0.0027\n",
            "Epoch 34/100\n",
            "205/205 [==============================] - 0s 2ms/step - loss: 0.0025\n",
            "Epoch 35/100\n",
            "205/205 [==============================] - 0s 2ms/step - loss: 0.0026\n",
            "Epoch 36/100\n",
            "205/205 [==============================] - 0s 2ms/step - loss: 0.0024\n",
            "Epoch 37/100\n",
            "205/205 [==============================] - 0s 2ms/step - loss: 0.0024\n",
            "Epoch 38/100\n",
            "205/205 [==============================] - 0s 2ms/step - loss: 0.0024\n",
            "Epoch 39/100\n",
            "205/205 [==============================] - 0s 2ms/step - loss: 0.0025\n",
            "Epoch 40/100\n",
            "205/205 [==============================] - 0s 2ms/step - loss: 0.0024\n",
            "Epoch 41/100\n",
            "205/205 [==============================] - 0s 2ms/step - loss: 0.0024\n",
            "Epoch 42/100\n",
            "205/205 [==============================] - 0s 2ms/step - loss: 0.0023\n",
            "Epoch 43/100\n",
            "205/205 [==============================] - 0s 2ms/step - loss: 0.0024\n",
            "Epoch 44/100\n",
            "205/205 [==============================] - 0s 2ms/step - loss: 0.0022\n",
            "Epoch 45/100\n",
            "205/205 [==============================] - 0s 2ms/step - loss: 0.0022\n",
            "Epoch 46/100\n",
            "205/205 [==============================] - 0s 2ms/step - loss: 0.0022\n",
            "Epoch 47/100\n",
            "205/205 [==============================] - 0s 2ms/step - loss: 0.0021\n",
            "Epoch 48/100\n",
            "205/205 [==============================] - 0s 2ms/step - loss: 0.0022\n",
            "Epoch 49/100\n",
            "205/205 [==============================] - 0s 2ms/step - loss: 0.0021\n",
            "Epoch 50/100\n",
            "205/205 [==============================] - 0s 2ms/step - loss: 0.0022\n",
            "Epoch 51/100\n",
            "205/205 [==============================] - 0s 2ms/step - loss: 0.0020\n",
            "Epoch 52/100\n",
            "205/205 [==============================] - 0s 2ms/step - loss: 0.0020\n",
            "Epoch 53/100\n",
            "205/205 [==============================] - 0s 2ms/step - loss: 0.0021\n",
            "Epoch 54/100\n",
            "205/205 [==============================] - 0s 2ms/step - loss: 0.0021\n",
            "Epoch 55/100\n",
            "205/205 [==============================] - 0s 2ms/step - loss: 0.0020\n",
            "Epoch 56/100\n",
            "205/205 [==============================] - 0s 2ms/step - loss: 0.0020\n",
            "Epoch 57/100\n",
            "205/205 [==============================] - 0s 2ms/step - loss: 0.0020\n",
            "Epoch 58/100\n",
            "205/205 [==============================] - 0s 2ms/step - loss: 0.0020\n",
            "Epoch 59/100\n",
            "205/205 [==============================] - 0s 2ms/step - loss: 0.0019\n",
            "Epoch 60/100\n",
            "205/205 [==============================] - 0s 2ms/step - loss: 0.0020\n",
            "Epoch 61/100\n",
            "205/205 [==============================] - 0s 2ms/step - loss: 0.0020\n",
            "Epoch 62/100\n",
            "205/205 [==============================] - 0s 2ms/step - loss: 0.0019\n",
            "Epoch 63/100\n",
            "205/205 [==============================] - 0s 2ms/step - loss: 0.0020\n",
            "Epoch 64/100\n",
            "205/205 [==============================] - 0s 2ms/step - loss: 0.0020\n",
            "Epoch 65/100\n",
            "205/205 [==============================] - 0s 2ms/step - loss: 0.0020\n",
            "Epoch 66/100\n",
            "205/205 [==============================] - 0s 2ms/step - loss: 0.0019\n",
            "Epoch 67/100\n",
            "205/205 [==============================] - 0s 2ms/step - loss: 0.0020\n",
            "Epoch 68/100\n",
            "205/205 [==============================] - 0s 2ms/step - loss: 0.0019\n",
            "Epoch 69/100\n",
            "205/205 [==============================] - 0s 2ms/step - loss: 0.0018\n",
            "Epoch 70/100\n",
            "205/205 [==============================] - 0s 2ms/step - loss: 0.0020\n",
            "Epoch 71/100\n",
            "205/205 [==============================] - 0s 2ms/step - loss: 0.0019\n",
            "Epoch 72/100\n",
            "205/205 [==============================] - 0s 2ms/step - loss: 0.0018\n",
            "Epoch 73/100\n",
            "205/205 [==============================] - 0s 2ms/step - loss: 0.0018\n",
            "Epoch 74/100\n",
            "205/205 [==============================] - 0s 2ms/step - loss: 0.0019\n",
            "Epoch 75/100\n",
            "205/205 [==============================] - 0s 2ms/step - loss: 0.0019\n",
            "Epoch 76/100\n",
            "205/205 [==============================] - 0s 2ms/step - loss: 0.0019\n",
            "Epoch 77/100\n",
            "205/205 [==============================] - 0s 2ms/step - loss: 0.0018\n",
            "Epoch 78/100\n",
            "205/205 [==============================] - 0s 2ms/step - loss: 0.0018\n",
            "Epoch 79/100\n",
            "205/205 [==============================] - 0s 2ms/step - loss: 0.0018\n",
            "Epoch 80/100\n",
            "205/205 [==============================] - 0s 2ms/step - loss: 0.0019\n",
            "Epoch 81/100\n",
            "205/205 [==============================] - 0s 2ms/step - loss: 0.0018\n",
            "Epoch 82/100\n",
            "205/205 [==============================] - 0s 2ms/step - loss: 0.0018\n",
            "Epoch 83/100\n",
            "205/205 [==============================] - 0s 2ms/step - loss: 0.0019\n",
            "Epoch 84/100\n",
            "205/205 [==============================] - 0s 2ms/step - loss: 0.0019\n",
            "Epoch 85/100\n",
            "205/205 [==============================] - 0s 2ms/step - loss: 0.0019\n",
            "Epoch 86/100\n",
            "205/205 [==============================] - 0s 2ms/step - loss: 0.0018\n",
            "Epoch 87/100\n",
            "205/205 [==============================] - 0s 2ms/step - loss: 0.0019\n",
            "Epoch 88/100\n",
            "205/205 [==============================] - 0s 2ms/step - loss: 0.0019\n",
            "Epoch 89/100\n",
            "205/205 [==============================] - 0s 2ms/step - loss: 0.0019\n",
            "Epoch 90/100\n",
            "205/205 [==============================] - 0s 2ms/step - loss: 0.0018\n",
            "Epoch 91/100\n",
            "205/205 [==============================] - 0s 2ms/step - loss: 0.0018\n",
            "Epoch 92/100\n",
            "205/205 [==============================] - 0s 2ms/step - loss: 0.0017\n",
            "Epoch 93/100\n",
            "205/205 [==============================] - 0s 2ms/step - loss: 0.0017\n",
            "Epoch 94/100\n",
            "205/205 [==============================] - 0s 2ms/step - loss: 0.0019\n",
            "Epoch 95/100\n",
            "205/205 [==============================] - 0s 2ms/step - loss: 0.0018\n",
            "Epoch 96/100\n",
            "205/205 [==============================] - 0s 2ms/step - loss: 0.0017\n",
            "Epoch 97/100\n",
            "205/205 [==============================] - 0s 2ms/step - loss: 0.0018\n",
            "Epoch 98/100\n",
            "205/205 [==============================] - 0s 2ms/step - loss: 0.0018\n",
            "Epoch 99/100\n",
            "205/205 [==============================] - 0s 2ms/step - loss: 0.0018\n",
            "Epoch 100/100\n",
            "205/205 [==============================] - 0s 2ms/step - loss: 0.0018\n"
          ]
        },
        {
          "output_type": "display_data",
          "data": {
            "image/png": "[encoded data removed]",
            "text/plain": [
              "<Figure size 1440x720 with 1 Axes>"
            ]
          },
          "metadata": {}
        },
        {
          "output_type": "stream",
          "name": "stdout",
          "text": [
            "\n",
            "\n",
            "코드 진행시간(초) :  85.67079615592957\n",
            "\n",
            "prediction :  [74224.63 74152.24 74190.75 74357.08 74448.61 74438.99 74444.67]\n",
            "result_max :  74448.61\n",
            "result_min :  74152.24\n",
            "train_RMSE :  990.561335713837\n",
            "test_RMSE :  1121.9886763639058\n"
          ]
        }
      ]
    },
    {
      "cell_type": "code",
      "source": [
        ""
      ],
      "metadata": {
        "id": "5rg5dC3RJOOX"
      },
      "execution_count": null,
      "outputs": []
    },
    {
      "cell_type": "code",
      "source": [
        ""
      ],
      "metadata": {
        "id": "bxyCiHeOl0XU"
      },
      "execution_count": null,
      "outputs": []
    },
    {
      "cell_type": "code",
      "source": [
        ""
      ],
      "metadata": {
        "id": "WC2PleAkl0Uu"
      },
      "execution_count": null,
      "outputs": []
    },
    {
      "cell_type": "code",
      "source": [
        ""
      ],
      "metadata": {
        "id": "3-MDU9Eel0So"
      },
      "execution_count": null,
      "outputs": []
    },
    {
      "cell_type": "code",
      "source": [
        ""
      ],
      "metadata": {
        "id": "T0DwJ2vXl0M-"
      },
      "execution_count": null,
      "outputs": []
    },
    {
      "cell_type": "code",
      "source": [
        ""
      ],
      "metadata": {
        "id": "QHdssChkl0LL"
      },
      "execution_count": null,
      "outputs": []
    },
    {
      "cell_type": "code",
      "source": [
        ""
      ],
      "metadata": {
        "id": "8AE8HHZ5l0Jl"
      },
      "execution_count": null,
      "outputs": []
    },
    {
      "cell_type": "code",
      "source": [
        ""
      ],
      "metadata": {
        "id": "R11RVx9gl0G6"
      },
      "execution_count": null,
      "outputs": []
    },
    {
      "cell_type": "code",
      "source": [
        ""
      ],
      "metadata": {
        "id": "UTKjUd44l0CW"
      },
      "execution_count": null,
      "outputs": []
    },
    {
      "cell_type": "code",
      "source": [
        ""
      ],
      "metadata": {
        "id": "WJ-KYlUalz_X"
      },
      "execution_count": null,
      "outputs": []
    },
    {
      "cell_type": "code",
      "source": [
        ""
      ],
      "metadata": {
        "id": "Ut97kijrlz4p"
      },
      "execution_count": null,
      "outputs": []
    },
    {
      "cell_type": "code",
      "source": [
        ""
      ],
      "metadata": {
        "id": "15ClE3gilz2Q"
      },
      "execution_count": null,
      "outputs": []
    },
    {
      "cell_type": "markdown",
      "source": [
        "# 코드 진행상황확인 및 오류 잡기위한 부분"
      ],
      "metadata": {
        "id": "niPikx8_4Od7"
      }
    },
    {
      "cell_type": "code",
      "source": [
        "%reset"
      ],
      "metadata": {
        "colab": {
          "base_uri": "https://localhost:8080/"
        },
        "id": "BFPU2LndJOKz",
        "outputId": "00d7d284-0f79-4651-b7a4-3d1b8a691315"
      },
      "execution_count": 176,
      "outputs": [
        {
          "name": "stdout",
          "output_type": "stream",
          "text": [
            "Once deleted, variables cannot be recovered. Proceed (y/[n])? y\n"
          ]
        }
      ]
    },
    {
      "cell_type": "code",
      "source": [
        "code = '005930.KS' # 사용자로부터 종목코드를 받음\n",
        "start = '2021-07-01' # \n",
        "end='2022-01-26'\n",
        "epochs = 100\n",
        "\n",
        "df = pdr.get_data_yahoo(code, start=start, end=end).reset_index()  # 주식 데이터 크롤링\n",
        "dataset = df['Close'].values # 종가 데이터 추출\n",
        "dataset = dataset.reshape(dataset.shape[0], 1) # 1차원배열을 2차원으로 변경\n",
        "dataset = dataset.astype('float32') # int -> float변환\n",
        "scaler = MinMaxScaler(feature_range=(0, 0.9)) # 최대값이 0.9가 되록 설정\n",
        "Dataset = scaler.fit_transform(dataset) \n",
        "train_data, test_data = train_test_split(Dataset, test_size=0.2, shuffle=False) # 8:2로 tarin, test 분리"
      ],
      "metadata": {
        "collapsed": true,
        "id": "896C9A1oJOHn"
      },
      "execution_count": 114,
      "outputs": []
    },
    {
      "cell_type": "code",
      "source": [
        "df.head(2)"
      ],
      "metadata": {
        "colab": {
          "base_uri": "https://localhost:8080/",
          "height": 112
        },
        "id": "0oBi6tppxg2e",
        "outputId": "e3fd2b91-81c3-408b-bc7d-bdcbe074242a"
      },
      "execution_count": 115,
      "outputs": [
        {
          "output_type": "execute_result",
          "data": {
            "text/html": [
              "\n",
              "  <div id=\"df-9e559df1-2101-43ca-90f0-763629874844\">\n",
              "    <div class=\"colab-df-container\">\n",
              "      <div>\n",
              "<style scoped>\n",
              "    .dataframe tbody tr th:only-of-type {\n",
              "        vertical-align: middle;\n",
              "    }\n",
              "\n",
              "    .dataframe tbody tr th {\n",
              "        vertical-align: top;\n",
              "    }\n",
              "\n",
              "    .dataframe thead th {\n",
              "        text-align: right;\n",
              "    }\n",
              "</style>\n",
              "<table border=\"1\" class=\"dataframe\">\n",
              "  <thead>\n",
              "    <tr style=\"text-align: right;\">\n",
              "      <th></th>\n",
              "      <th>Date</th>\n",
              "      <th>High</th>\n",
              "      <th>Low</th>\n",
              "      <th>Open</th>\n",
              "      <th>Close</th>\n",
              "      <th>Volume</th>\n",
              "      <th>Adj Close</th>\n",
              "    </tr>\n",
              "  </thead>\n",
              "  <tbody>\n",
              "    <tr>\n",
              "      <th>0</th>\n",
              "      <td>2021-07-01</td>\n",
              "      <td>80600.0</td>\n",
              "      <td>80000.0</td>\n",
              "      <td>80500.0</td>\n",
              "      <td>80100.0</td>\n",
              "      <td>13382882.0</td>\n",
              "      <td>79721.023438</td>\n",
              "    </tr>\n",
              "    <tr>\n",
              "      <th>1</th>\n",
              "      <td>2021-07-02</td>\n",
              "      <td>80400.0</td>\n",
              "      <td>79900.0</td>\n",
              "      <td>80000.0</td>\n",
              "      <td>80000.0</td>\n",
              "      <td>8753097.0</td>\n",
              "      <td>79621.500000</td>\n",
              "    </tr>\n",
              "  </tbody>\n",
              "</table>\n",
              "</div>\n",
              "      <button class=\"colab-df-convert\" onclick=\"convertToInteractive('df-9e559df1-2101-43ca-90f0-763629874844')\"\n",
              "              title=\"Convert this dataframe to an interactive table.\"\n",
              "              style=\"display:none;\">\n",
              "        \n",
              "  <svg xmlns=\"http://www.w3.org/2000/svg\" height=\"24px\"viewBox=\"0 0 24 24\"\n",
              "       width=\"24px\">\n",
              "    <path d=\"M0 0h24v24H0V0z\" fill=\"none\"/>\n",
              "    <path d=\"M18.56 5.44l.94 2.06.94-2.06 2.06-.94-2.06-.94-.94-2.06-.94 2.06-2.06.94zm-11 1L8.5 8.5l.94-2.06 2.06-.94-2.06-.94L8.5 2.5l-.94 2.06-2.06.94zm10 10l.94 2.06.94-2.06 2.06-.94-2.06-.94-.94-2.06-.94 2.06-2.06.94z\"/><path d=\"M17.41 7.96l-1.37-1.37c-.4-.4-.92-.59-1.43-.59-.52 0-1.04.2-1.43.59L10.3 9.45l-7.72 7.72c-.78.78-.78 2.05 0 2.83L4 21.41c.39.39.9.59 1.41.59.51 0 1.02-.2 1.41-.59l7.78-7.78 2.81-2.81c.8-.78.8-2.07 0-2.86zM5.41 20L4 18.59l7.72-7.72 1.47 1.35L5.41 20z\"/>\n",
              "  </svg>\n",
              "      </button>\n",
              "      \n",
              "  <style>\n",
              "    .colab-df-container {\n",
              "      display:flex;\n",
              "      flex-wrap:wrap;\n",
              "      gap: 12px;\n",
              "    }\n",
              "\n",
              "    .colab-df-convert {\n",
              "      background-color: #E8F0FE;\n",
              "      border: none;\n",
              "      border-radius: 50%;\n",
              "      cursor: pointer;\n",
              "      display: none;\n",
              "      fill: #1967D2;\n",
              "      height: 32px;\n",
              "      padding: 0 0 0 0;\n",
              "      width: 32px;\n",
              "    }\n",
              "\n",
              "    .colab-df-convert:hover {\n",
              "      background-color: #E2EBFA;\n",
              "      box-shadow: 0px 1px 2px rgba(60, 64, 67, 0.3), 0px 1px 3px 1px rgba(60, 64, 67, 0.15);\n",
              "      fill: #174EA6;\n",
              "    }\n",
              "\n",
              "    [theme=dark] .colab-df-convert {\n",
              "      background-color: #3B4455;\n",
              "      fill: #D2E3FC;\n",
              "    }\n",
              "\n",
              "    [theme=dark] .colab-df-convert:hover {\n",
              "      background-color: #434B5C;\n",
              "      box-shadow: 0px 1px 3px 1px rgba(0, 0, 0, 0.15);\n",
              "      filter: drop-shadow(0px 1px 2px rgba(0, 0, 0, 0.3));\n",
              "      fill: #FFFFFF;\n",
              "    }\n",
              "  </style>\n",
              "\n",
              "      <script>\n",
              "        const buttonEl =\n",
              "          document.querySelector('#df-9e559df1-2101-43ca-90f0-763629874844 button.colab-df-convert');\n",
              "        buttonEl.style.display =\n",
              "          google.colab.kernel.accessAllowed ? 'block' : 'none';\n",
              "\n",
              "        async function convertToInteractive(key) {\n",
              "          const element = document.querySelector('#df-9e559df1-2101-43ca-90f0-763629874844');\n",
              "          const dataTable =\n",
              "            await google.colab.kernel.invokeFunction('convertToInteractive',\n",
              "                                                     [key], {});\n",
              "          if (!dataTable) return;\n",
              "\n",
              "          const docLinkHtml = 'Like what you see? Visit the ' +\n",
              "            '<a target=\"_blank\" href=https://colab.research.google.com/notebooks/data_table.ipynb>data table notebook</a>'\n",
              "            + ' to learn more about interactive tables.';\n",
              "          element.innerHTML = '';\n",
              "          dataTable['output_type'] = 'display_data';\n",
              "          await google.colab.output.renderOutput(dataTable, element);\n",
              "          const docLink = document.createElement('div');\n",
              "          docLink.innerHTML = docLinkHtml;\n",
              "          element.appendChild(docLink);\n",
              "        }\n",
              "      </script>\n",
              "    </div>\n",
              "  </div>\n",
              "  "
            ],
            "text/plain": [
              "        Date     High      Low     Open    Close      Volume     Adj Close\n",
              "0 2021-07-01  80600.0  80000.0  80500.0  80100.0  13382882.0  79721.023438\n",
              "1 2021-07-02  80400.0  79900.0  80000.0  80000.0   8753097.0  79621.500000"
            ]
          },
          "metadata": {},
          "execution_count": 115
        }
      ]
    },
    {
      "cell_type": "code",
      "source": [
        "dataset[:5]"
      ],
      "metadata": {
        "colab": {
          "base_uri": "https://localhost:8080/"
        },
        "id": "yP6kpCI2xkpN",
        "outputId": "5d91d0e9-5de9-4d2e-97cd-8f8349716235"
      },
      "execution_count": 116,
      "outputs": [
        {
          "output_type": "execute_result",
          "data": {
            "text/plain": [
              "array([[80100.],\n",
              "       [80000.],\n",
              "       [80400.],\n",
              "       [81200.],\n",
              "       [80800.]], dtype=float32)"
            ]
          },
          "metadata": {},
          "execution_count": 116
        }
      ]
    },
    {
      "cell_type": "code",
      "source": [
        "Dataset[:5]"
      ],
      "metadata": {
        "colab": {
          "base_uri": "https://localhost:8080/"
        },
        "id": "G-GZwQ2-xpga",
        "outputId": "43fe5271-fcc7-46a9-a223-e341c9d40837"
      },
      "execution_count": 117,
      "outputs": [
        {
          "output_type": "execute_result",
          "data": {
            "text/plain": [
              "array([[0.7212763 ],\n",
              "       [0.71489334],\n",
              "       [0.7404251 ],\n",
              "       [0.7914891 ],\n",
              "       [0.76595736]], dtype=float32)"
            ]
          },
          "metadata": {},
          "execution_count": 117
        }
      ]
    },
    {
      "cell_type": "code",
      "source": [
        "Dataset.max() "
      ],
      "metadata": {
        "colab": {
          "base_uri": "https://localhost:8080/"
        },
        "id": "MskoQD0TxYu8",
        "outputId": "c476ad50-d661-40c0-a80a-1d1812af1107"
      },
      "execution_count": 118,
      "outputs": [
        {
          "output_type": "execute_result",
          "data": {
            "text/plain": [
              "0.8999996"
            ]
          },
          "metadata": {},
          "execution_count": 118
        }
      ]
    },
    {
      "cell_type": "code",
      "source": [
        ""
      ],
      "metadata": {
        "id": "4gW8lAdTx_L9"
      },
      "execution_count": 118,
      "outputs": []
    },
    {
      "cell_type": "code",
      "source": [
        ""
      ],
      "metadata": {
        "id": "M3F7kmx2x_Eb"
      },
      "execution_count": 118,
      "outputs": []
    },
    {
      "cell_type": "code",
      "source": [
        "def create_dataset(dataset, look_back): # 종속변수와 독립변수를 생성하는 함수\n",
        "  x_data = [] # 빈 리스트 생성\n",
        "  y_data = []\n",
        "\n",
        "  for i in range(len(dataset) - look_back):\n",
        "    data = dataset[i: (i + look_back), 0]\n",
        "    x_data.append(data)\n",
        "    y_data.append(dataset[i + look_back, 0])\n",
        "  return np.array(x_data), np.array(y_data)"
      ],
      "metadata": {
        "id": "0hMjZoOhEHCu"
      },
      "execution_count": 119,
      "outputs": []
    },
    {
      "cell_type": "code",
      "source": [
        "look_back = 7\n",
        "x_train, y_train = create_dataset(train_data, look_back) # train_data 생성\n",
        "x_test, y_test = create_dataset(test_data, look_back) # test 데이터 생성"
      ],
      "metadata": {
        "id": "HfmfZqOXELB8"
      },
      "execution_count": 120,
      "outputs": []
    },
    {
      "cell_type": "code",
      "source": [
        "x_train[:2]"
      ],
      "metadata": {
        "colab": {
          "base_uri": "https://localhost:8080/"
        },
        "id": "asdPkHBQxxZJ",
        "outputId": "a2772526-14f5-448a-e4fd-928502119897"
      },
      "execution_count": 121,
      "outputs": [
        {
          "output_type": "execute_result",
          "data": {
            "text/plain": [
              "array([[0.7212763 , 0.71489334, 0.7404251 , 0.7914891 , 0.76595736,\n",
              "        0.7085104 , 0.6765957 ],\n",
              "       [0.71489334, 0.7404251 , 0.7914891 , 0.76595736, 0.7085104 ,\n",
              "        0.6765957 , 0.6957445 ]], dtype=float32)"
            ]
          },
          "metadata": {},
          "execution_count": 121
        }
      ]
    },
    {
      "cell_type": "code",
      "source": [
        "y_train[:5]"
      ],
      "metadata": {
        "colab": {
          "base_uri": "https://localhost:8080/"
        },
        "id": "BXCes1ZQxxWj",
        "outputId": "b7721599-e1bb-45c4-93a7-e815495bd8f6"
      },
      "execution_count": 122,
      "outputs": [
        {
          "output_type": "execute_result",
          "data": {
            "text/plain": [
              "array([0.6957445 , 0.70212746, 0.68297863, 0.7531915 , 0.70212746],\n",
              "      dtype=float32)"
            ]
          },
          "metadata": {},
          "execution_count": 122
        }
      ]
    },
    {
      "cell_type": "code",
      "source": [
        "x_test[:2]"
      ],
      "metadata": {
        "colab": {
          "base_uri": "https://localhost:8080/"
        },
        "id": "iJ4TGd4OxxUK",
        "outputId": "671dfe3a-d41e-47f0-c0b4-74536897c2cb"
      },
      "execution_count": 123,
      "outputs": [
        {
          "output_type": "execute_result",
          "data": {
            "text/plain": [
              "array([[0.5617018 , 0.57446766, 0.587234  , 0.52978706, 0.59361696,\n",
              "        0.6765957 , 0.7085104 ],\n",
              "       [0.57446766, 0.587234  , 0.52978706, 0.59361696, 0.6765957 ,\n",
              "        0.7085104 , 0.74680805]], dtype=float32)"
            ]
          },
          "metadata": {},
          "execution_count": 123
        }
      ]
    },
    {
      "cell_type": "code",
      "source": [
        "y_test[:5]"
      ],
      "metadata": {
        "colab": {
          "base_uri": "https://localhost:8080/"
        },
        "id": "jZE7pQODxxRT",
        "outputId": "8c863121-c478-4855-c278-e9006f9abaf7"
      },
      "execution_count": 124,
      "outputs": [
        {
          "output_type": "execute_result",
          "data": {
            "text/plain": [
              "array([0.74680805, 0.7276592 , 0.73404217, 0.63829756, 0.60638285],\n",
              "      dtype=float32)"
            ]
          },
          "metadata": {},
          "execution_count": 124
        }
      ]
    },
    {
      "cell_type": "code",
      "source": [
        ""
      ],
      "metadata": {
        "id": "K6eDB8BLxxJO"
      },
      "execution_count": 124,
      "outputs": []
    },
    {
      "cell_type": "code",
      "source": [
        ""
      ],
      "metadata": {
        "id": "SVgranZRyBGX"
      },
      "execution_count": 124,
      "outputs": []
    },
    {
      "cell_type": "code",
      "source": [
        "X_train = np.reshape(x_train, (x_train.shape[0], 1, x_train.shape[1]))\n",
        "X_test = np.reshape(x_test, (x_test.shape[0], 1, x_test.shape[1]))"
      ],
      "metadata": {
        "id": "5-wq_w-NEQ7R"
      },
      "execution_count": 125,
      "outputs": []
    },
    {
      "cell_type": "code",
      "source": [
        "X_train.shape"
      ],
      "metadata": {
        "colab": {
          "base_uri": "https://localhost:8080/"
        },
        "id": "t0wojMG6yChg",
        "outputId": "89368fc2-46d5-42ae-91e2-f182414c9146"
      },
      "execution_count": 126,
      "outputs": [
        {
          "output_type": "execute_result",
          "data": {
            "text/plain": [
              "(106, 1, 7)"
            ]
          },
          "metadata": {},
          "execution_count": 126
        }
      ]
    },
    {
      "cell_type": "code",
      "source": [
        "X_test.shape"
      ],
      "metadata": {
        "colab": {
          "base_uri": "https://localhost:8080/"
        },
        "id": "-eEYGLk4yCWm",
        "outputId": "16ac00b8-98ea-48a9-f1df-36c65fb64dcd"
      },
      "execution_count": 127,
      "outputs": [
        {
          "output_type": "execute_result",
          "data": {
            "text/plain": [
              "(22, 1, 7)"
            ]
          },
          "metadata": {},
          "execution_count": 127
        }
      ]
    },
    {
      "cell_type": "code",
      "source": [
        ""
      ],
      "metadata": {
        "id": "Qk-AW-HhyCNM"
      },
      "execution_count": 127,
      "outputs": []
    },
    {
      "cell_type": "code",
      "source": [
        ""
      ],
      "metadata": {
        "id": "gKvMLgu-yCE4"
      },
      "execution_count": 127,
      "outputs": []
    },
    {
      "cell_type": "code",
      "source": [
        "model = Sequential() # model 옵션\n",
        "model.add(SimpleRNN(3, input_shape=(1, look_back)))\n",
        "model.add(Dense(1, activation=\"linear\"))\n",
        "model.compile(loss='mse', optimizer='adam')\n",
        "\n",
        "model.fit(X_train, y_train, epochs = epochs, batch_size=1, verbose=1) # train_data학습 "
      ],
      "metadata": {
        "colab": {
          "base_uri": "https://localhost:8080/"
        },
        "collapsed": true,
        "id": "_ckQ4SYsEUjz",
        "outputId": "696f2dbe-acac-455d-c1fb-9dc7fbe47e22"
      },
      "execution_count": 128,
      "outputs": [
        {
          "output_type": "stream",
          "name": "stdout",
          "text": [
            "Epoch 1/100\n",
            "106/106 [==============================] - 1s 2ms/step - loss: 0.0210\n",
            "Epoch 2/100\n",
            "106/106 [==============================] - 0s 2ms/step - loss: 0.0179\n",
            "Epoch 3/100\n",
            "106/106 [==============================] - 0s 2ms/step - loss: 0.0170\n",
            "Epoch 4/100\n",
            "106/106 [==============================] - 0s 2ms/step - loss: 0.0157\n",
            "Epoch 5/100\n",
            "106/106 [==============================] - 0s 2ms/step - loss: 0.0153\n",
            "Epoch 6/100\n",
            "106/106 [==============================] - 0s 2ms/step - loss: 0.0140\n",
            "Epoch 7/100\n",
            "106/106 [==============================] - 0s 2ms/step - loss: 0.0134\n",
            "Epoch 8/100\n",
            "106/106 [==============================] - 0s 2ms/step - loss: 0.0125\n",
            "Epoch 9/100\n",
            "106/106 [==============================] - 0s 2ms/step - loss: 0.0118\n",
            "Epoch 10/100\n",
            "106/106 [==============================] - 0s 2ms/step - loss: 0.0109\n",
            "Epoch 11/100\n",
            "106/106 [==============================] - 0s 2ms/step - loss: 0.0102\n",
            "Epoch 12/100\n",
            "106/106 [==============================] - 0s 2ms/step - loss: 0.0094\n",
            "Epoch 13/100\n",
            "106/106 [==============================] - 0s 2ms/step - loss: 0.0087\n",
            "Epoch 14/100\n",
            "106/106 [==============================] - 0s 2ms/step - loss: 0.0081\n",
            "Epoch 15/100\n",
            "106/106 [==============================] - 0s 2ms/step - loss: 0.0075\n",
            "Epoch 16/100\n",
            "106/106 [==============================] - 0s 2ms/step - loss: 0.0070\n",
            "Epoch 17/100\n",
            "106/106 [==============================] - 0s 2ms/step - loss: 0.0067\n",
            "Epoch 18/100\n",
            "106/106 [==============================] - 0s 2ms/step - loss: 0.0063\n",
            "Epoch 19/100\n",
            "106/106 [==============================] - 0s 2ms/step - loss: 0.0060\n",
            "Epoch 20/100\n",
            "106/106 [==============================] - 0s 2ms/step - loss: 0.0059\n",
            "Epoch 21/100\n",
            "106/106 [==============================] - 0s 2ms/step - loss: 0.0055\n",
            "Epoch 22/100\n",
            "106/106 [==============================] - 0s 2ms/step - loss: 0.0053\n",
            "Epoch 23/100\n",
            "106/106 [==============================] - 0s 2ms/step - loss: 0.0055\n",
            "Epoch 24/100\n",
            "106/106 [==============================] - 0s 2ms/step - loss: 0.0054\n",
            "Epoch 25/100\n",
            "106/106 [==============================] - 0s 2ms/step - loss: 0.0053\n",
            "Epoch 26/100\n",
            "106/106 [==============================] - 0s 2ms/step - loss: 0.0052\n",
            "Epoch 27/100\n",
            "106/106 [==============================] - 0s 2ms/step - loss: 0.0051\n",
            "Epoch 28/100\n",
            "106/106 [==============================] - 0s 2ms/step - loss: 0.0050\n",
            "Epoch 29/100\n",
            "106/106 [==============================] - 0s 2ms/step - loss: 0.0050\n",
            "Epoch 30/100\n",
            "106/106 [==============================] - 0s 2ms/step - loss: 0.0050\n",
            "Epoch 31/100\n",
            "106/106 [==============================] - 0s 2ms/step - loss: 0.0050\n",
            "Epoch 32/100\n",
            "106/106 [==============================] - 0s 2ms/step - loss: 0.0048\n",
            "Epoch 33/100\n",
            "106/106 [==============================] - 0s 2ms/step - loss: 0.0049\n",
            "Epoch 34/100\n",
            "106/106 [==============================] - 0s 2ms/step - loss: 0.0051\n",
            "Epoch 35/100\n",
            "106/106 [==============================] - 0s 2ms/step - loss: 0.0048\n",
            "Epoch 36/100\n",
            "106/106 [==============================] - 0s 2ms/step - loss: 0.0047\n",
            "Epoch 37/100\n",
            "106/106 [==============================] - 0s 2ms/step - loss: 0.0047\n",
            "Epoch 38/100\n",
            "106/106 [==============================] - 0s 2ms/step - loss: 0.0048\n",
            "Epoch 39/100\n",
            "106/106 [==============================] - 0s 2ms/step - loss: 0.0046\n",
            "Epoch 40/100\n",
            "106/106 [==============================] - 0s 2ms/step - loss: 0.0047\n",
            "Epoch 41/100\n",
            "106/106 [==============================] - 0s 2ms/step - loss: 0.0048\n",
            "Epoch 42/100\n",
            "106/106 [==============================] - 0s 2ms/step - loss: 0.0048\n",
            "Epoch 43/100\n",
            "106/106 [==============================] - 0s 2ms/step - loss: 0.0045\n",
            "Epoch 44/100\n",
            "106/106 [==============================] - 0s 2ms/step - loss: 0.0046\n",
            "Epoch 45/100\n",
            "106/106 [==============================] - 0s 2ms/step - loss: 0.0048\n",
            "Epoch 46/100\n",
            "106/106 [==============================] - 0s 2ms/step - loss: 0.0045\n",
            "Epoch 47/100\n",
            "106/106 [==============================] - 0s 2ms/step - loss: 0.0046\n",
            "Epoch 48/100\n",
            "106/106 [==============================] - 0s 2ms/step - loss: 0.0047\n",
            "Epoch 49/100\n",
            "106/106 [==============================] - 0s 2ms/step - loss: 0.0046\n",
            "Epoch 50/100\n",
            "106/106 [==============================] - 0s 2ms/step - loss: 0.0045\n",
            "Epoch 51/100\n",
            "106/106 [==============================] - 0s 2ms/step - loss: 0.0045\n",
            "Epoch 52/100\n",
            "106/106 [==============================] - 0s 2ms/step - loss: 0.0044\n",
            "Epoch 53/100\n",
            "106/106 [==============================] - 0s 2ms/step - loss: 0.0045\n",
            "Epoch 54/100\n",
            "106/106 [==============================] - 0s 2ms/step - loss: 0.0044\n",
            "Epoch 55/100\n",
            "106/106 [==============================] - 0s 2ms/step - loss: 0.0043\n",
            "Epoch 56/100\n",
            "106/106 [==============================] - 0s 2ms/step - loss: 0.0046\n",
            "Epoch 57/100\n",
            "106/106 [==============================] - 0s 2ms/step - loss: 0.0042\n",
            "Epoch 58/100\n",
            "106/106 [==============================] - 0s 2ms/step - loss: 0.0044\n",
            "Epoch 59/100\n",
            "106/106 [==============================] - 0s 2ms/step - loss: 0.0045\n",
            "Epoch 60/100\n",
            "106/106 [==============================] - 0s 2ms/step - loss: 0.0043\n",
            "Epoch 61/100\n",
            "106/106 [==============================] - 0s 2ms/step - loss: 0.0044\n",
            "Epoch 62/100\n",
            "106/106 [==============================] - 0s 2ms/step - loss: 0.0043\n",
            "Epoch 63/100\n",
            "106/106 [==============================] - 0s 2ms/step - loss: 0.0044\n",
            "Epoch 64/100\n",
            "106/106 [==============================] - 0s 2ms/step - loss: 0.0044\n",
            "Epoch 65/100\n",
            "106/106 [==============================] - 0s 2ms/step - loss: 0.0043\n",
            "Epoch 66/100\n",
            "106/106 [==============================] - 0s 2ms/step - loss: 0.0046\n",
            "Epoch 67/100\n",
            "106/106 [==============================] - 0s 2ms/step - loss: 0.0045\n",
            "Epoch 68/100\n",
            "106/106 [==============================] - 0s 2ms/step - loss: 0.0042\n",
            "Epoch 69/100\n",
            "106/106 [==============================] - 0s 2ms/step - loss: 0.0046\n",
            "Epoch 70/100\n",
            "106/106 [==============================] - 0s 2ms/step - loss: 0.0042\n",
            "Epoch 71/100\n",
            "106/106 [==============================] - 0s 2ms/step - loss: 0.0040\n",
            "Epoch 72/100\n",
            "106/106 [==============================] - 0s 2ms/step - loss: 0.0044\n",
            "Epoch 73/100\n",
            "106/106 [==============================] - 0s 2ms/step - loss: 0.0045\n",
            "Epoch 74/100\n",
            "106/106 [==============================] - 0s 2ms/step - loss: 0.0042\n",
            "Epoch 75/100\n",
            "106/106 [==============================] - 0s 2ms/step - loss: 0.0044\n",
            "Epoch 76/100\n",
            "106/106 [==============================] - 0s 2ms/step - loss: 0.0042\n",
            "Epoch 77/100\n",
            "106/106 [==============================] - 0s 2ms/step - loss: 0.0043\n",
            "Epoch 78/100\n",
            "106/106 [==============================] - 0s 2ms/step - loss: 0.0044\n",
            "Epoch 79/100\n",
            "106/106 [==============================] - 0s 2ms/step - loss: 0.0042\n",
            "Epoch 80/100\n",
            "106/106 [==============================] - 0s 2ms/step - loss: 0.0042\n",
            "Epoch 81/100\n",
            "106/106 [==============================] - 0s 2ms/step - loss: 0.0042\n",
            "Epoch 82/100\n",
            "106/106 [==============================] - 0s 2ms/step - loss: 0.0041\n",
            "Epoch 83/100\n",
            "106/106 [==============================] - 0s 2ms/step - loss: 0.0043\n",
            "Epoch 84/100\n",
            "106/106 [==============================] - 0s 2ms/step - loss: 0.0041\n",
            "Epoch 85/100\n",
            "106/106 [==============================] - 0s 2ms/step - loss: 0.0043\n",
            "Epoch 86/100\n",
            "106/106 [==============================] - 0s 2ms/step - loss: 0.0044\n",
            "Epoch 87/100\n",
            "106/106 [==============================] - 0s 2ms/step - loss: 0.0043\n",
            "Epoch 88/100\n",
            "106/106 [==============================] - 0s 2ms/step - loss: 0.0044\n",
            "Epoch 89/100\n",
            "106/106 [==============================] - 0s 2ms/step - loss: 0.0040\n",
            "Epoch 90/100\n",
            "106/106 [==============================] - 0s 2ms/step - loss: 0.0045\n",
            "Epoch 91/100\n",
            "106/106 [==============================] - 0s 2ms/step - loss: 0.0042\n",
            "Epoch 92/100\n",
            "106/106 [==============================] - 0s 2ms/step - loss: 0.0042\n",
            "Epoch 93/100\n",
            "106/106 [==============================] - 0s 2ms/step - loss: 0.0041\n",
            "Epoch 94/100\n",
            "106/106 [==============================] - 0s 2ms/step - loss: 0.0043\n",
            "Epoch 95/100\n",
            "106/106 [==============================] - 0s 2ms/step - loss: 0.0041\n",
            "Epoch 96/100\n",
            "106/106 [==============================] - 0s 2ms/step - loss: 0.0042\n",
            "Epoch 97/100\n",
            "106/106 [==============================] - 0s 2ms/step - loss: 0.0042\n",
            "Epoch 98/100\n",
            "106/106 [==============================] - 0s 2ms/step - loss: 0.0042\n",
            "Epoch 99/100\n",
            "106/106 [==============================] - 0s 2ms/step - loss: 0.0041\n",
            "Epoch 100/100\n",
            "106/106 [==============================] - 0s 2ms/step - loss: 0.0042\n"
          ]
        },
        {
          "output_type": "execute_result",
          "data": {
            "text/plain": [
              "<keras.callbacks.History at 0x7f100c37c050>"
            ]
          },
          "metadata": {},
          "execution_count": 128
        }
      ]
    },
    {
      "cell_type": "code",
      "source": [
        "trainPredict = model.predict(X_train) # train_data를 이용하여 예측\n",
        "testPredict = model.predict(X_test) # test_data를 이용하여 예측\n",
        "\n",
        "TrainPredict = scaler.inverse_transform(trainPredict) # Min-Max변환된 값을 원래대로 되돌림\n",
        "Y_train = scaler.inverse_transform([y_train]) # Min-Max변환된 값을 원래대로 되돌림\n",
        "TestPredict = scaler.inverse_transform(testPredict) # Min-Max변환된 값을 원래대로 되돌림\n",
        "Y_test = scaler.inverse_transform([y_test]) # Min-Max변환된 값을 원래대로 되돌림"
      ],
      "metadata": {
        "id": "nZvMCU38JOFD"
      },
      "execution_count": 129,
      "outputs": []
    },
    {
      "cell_type": "code",
      "source": [
        "trainPredict[:5]"
      ],
      "metadata": {
        "colab": {
          "base_uri": "https://localhost:8080/"
        },
        "id": "4-tQ1QRuyZEz",
        "outputId": "8ae34390-406c-431e-bd66-8d51bfd4a189"
      },
      "execution_count": 130,
      "outputs": [
        {
          "output_type": "execute_result",
          "data": {
            "text/plain": [
              "array([[0.6497056 ],\n",
              "       [0.6810104 ],\n",
              "       [0.6764998 ],\n",
              "       [0.6526271 ],\n",
              "       [0.72752804]], dtype=float32)"
            ]
          },
          "metadata": {},
          "execution_count": 130
        }
      ]
    },
    {
      "cell_type": "code",
      "source": [
        "testPredict[:5]"
      ],
      "metadata": {
        "colab": {
          "base_uri": "https://localhost:8080/"
        },
        "id": "DpNf6GrhyY_0",
        "outputId": "d40f502c-6cf4-4a1a-a343-fa2025e68889"
      },
      "execution_count": 131,
      "outputs": [
        {
          "output_type": "execute_result",
          "data": {
            "text/plain": [
              "array([[0.7045535 ],\n",
              "       [0.71563625],\n",
              "       [0.7243866 ],\n",
              "       [0.714545  ],\n",
              "       [0.61670923]], dtype=float32)"
            ]
          },
          "metadata": {},
          "execution_count": 131
        }
      ]
    },
    {
      "cell_type": "code",
      "source": [
        "TrainPredict[:5] # 예측값"
      ],
      "metadata": {
        "colab": {
          "base_uri": "https://localhost:8080/"
        },
        "id": "ZbeJTVgyyY88",
        "outputId": "0446dcea-eabb-4b8f-c9c5-672fe0c6e726"
      },
      "execution_count": 132,
      "outputs": [
        {
          "output_type": "execute_result",
          "data": {
            "text/plain": [
              "array([[78978.72 ],\n",
              "       [79469.164],\n",
              "       [79398.5  ],\n",
              "       [79024.49 ],\n",
              "       [80197.945]], dtype=float32)"
            ]
          },
          "metadata": {},
          "execution_count": 132
        }
      ]
    },
    {
      "cell_type": "code",
      "source": [
        "Y_train[0][:5] # 실제값"
      ],
      "metadata": {
        "colab": {
          "base_uri": "https://localhost:8080/"
        },
        "id": "KIFUwAXNyY4z",
        "outputId": "409bc621-154d-4dfc-c6f2-e9f9f644cdad"
      },
      "execution_count": 133,
      "outputs": [
        {
          "output_type": "execute_result",
          "data": {
            "text/plain": [
              "array([79700.00108382, 79800.00051341, 79500.00222463, 80600.00342061,\n",
              "       79800.00051341])"
            ]
          },
          "metadata": {},
          "execution_count": 133
        }
      ]
    },
    {
      "cell_type": "code",
      "source": [
        "TestPredict[:5] # 예측값"
      ],
      "metadata": {
        "colab": {
          "base_uri": "https://localhost:8080/"
        },
        "id": "ixvFtt_bzIHN",
        "outputId": "16ff99b2-b973-4577-b5a7-4ca422be8765"
      },
      "execution_count": 134,
      "outputs": [
        {
          "output_type": "execute_result",
          "data": {
            "text/plain": [
              "array([[79838.01],\n",
              "       [80011.64],\n",
              "       [80148.73],\n",
              "       [79994.54],\n",
              "       [78461.78]], dtype=float32)"
            ]
          },
          "metadata": {},
          "execution_count": 134
        }
      ]
    },
    {
      "cell_type": "code",
      "source": [
        "Y_test[0][:5] # 실제값"
      ],
      "metadata": {
        "colab": {
          "base_uri": "https://localhost:8080/"
        },
        "id": "MJUStSwizIE7",
        "outputId": "c0c2d7b1-1b8c-45b6-868c-6d3e8d460f20"
      },
      "execution_count": 135,
      "outputs": [
        {
          "output_type": "execute_result",
          "data": {
            "text/plain": [
              "array([80499.99652057, 80199.99823179, 80299.99766138, 78799.99874702,\n",
              "       78300.00159905])"
            ]
          },
          "metadata": {},
          "execution_count": 135
        }
      ]
    },
    {
      "cell_type": "code",
      "source": [
        ""
      ],
      "metadata": {
        "id": "B9TOFryLzH98"
      },
      "execution_count": 135,
      "outputs": []
    },
    {
      "cell_type": "code",
      "source": [
        ""
      ],
      "metadata": {
        "id": "HF0TJeFMyYz1"
      },
      "execution_count": 135,
      "outputs": []
    },
    {
      "cell_type": "code",
      "source": [
        "train_RMSE = math.sqrt(mean_squared_error(Y_train[0], TrainPredict[:, 0])) # train_RMSE\n",
        "test_RMSE = math.sqrt(mean_squared_error(Y_test[0], TestPredict[:, 0])) # test_RMSE"
      ],
      "metadata": {
        "id": "7kCqsRMyJODT"
      },
      "execution_count": 136,
      "outputs": []
    },
    {
      "cell_type": "code",
      "source": [
        "print(train_RMSE)\n",
        "print(test_RMSE)"
      ],
      "metadata": {
        "colab": {
          "base_uri": "https://localhost:8080/"
        },
        "id": "feD3ZR6kz1Vh",
        "outputId": "e7345832-9d43-4a0c-f616-9407f4080d85"
      },
      "execution_count": 137,
      "outputs": [
        {
          "output_type": "stream",
          "name": "stdout",
          "text": [
            "979.9412718836126\n",
            "816.3526857994341\n"
          ]
        }
      ]
    },
    {
      "cell_type": "code",
      "source": [
        ""
      ],
      "metadata": {
        "id": "hTgd_Qeaz1N-"
      },
      "execution_count": 137,
      "outputs": []
    },
    {
      "cell_type": "code",
      "source": [
        ""
      ],
      "metadata": {
        "id": "vu8EfcI4z09l"
      },
      "execution_count": 137,
      "outputs": []
    },
    {
      "cell_type": "code",
      "source": [
        "x_pred = np.zeros(look_back * look_back, dtype = float) # 예측값을 저장할 array생성\n",
        "x_pred = x_pred.reshape(look_back, 1, look_back) # 3차원으로 변환"
      ],
      "metadata": {
        "id": "zxbJ-1w6JOAh"
      },
      "execution_count": 138,
      "outputs": []
    },
    {
      "cell_type": "code",
      "source": [
        "x_pred"
      ],
      "metadata": {
        "colab": {
          "base_uri": "https://localhost:8080/"
        },
        "id": "AelwRjAq0BOv",
        "outputId": "82d5f45c-4486-4696-a3a8-8aa455e9bbab"
      },
      "execution_count": 139,
      "outputs": [
        {
          "output_type": "execute_result",
          "data": {
            "text/plain": [
              "array([[[0., 0., 0., 0., 0., 0., 0.]],\n",
              "\n",
              "       [[0., 0., 0., 0., 0., 0., 0.]],\n",
              "\n",
              "       [[0., 0., 0., 0., 0., 0., 0.]],\n",
              "\n",
              "       [[0., 0., 0., 0., 0., 0., 0.]],\n",
              "\n",
              "       [[0., 0., 0., 0., 0., 0., 0.]],\n",
              "\n",
              "       [[0., 0., 0., 0., 0., 0., 0.]],\n",
              "\n",
              "       [[0., 0., 0., 0., 0., 0., 0.]]])"
            ]
          },
          "metadata": {},
          "execution_count": 139
        }
      ]
    },
    {
      "cell_type": "code",
      "source": [
        "for i in range(look_back):\n",
        "  if i == 0:\n",
        "    x_pred[0][0][:-1] = Dataset[-6:].reshape(6) # 최근 6일 데이터를 pred의 1번째 row, 1~6번째 인덱스에 저장\n",
        "    x_pred[0][0][-1] = model.predict(Dataset[-7:].reshape(1, 1, look_back)) # 최근 7일 데이터를 이용한 예측값을 pred의 1번째 row, 7번째 인덱스에 저장\n",
        "  elif i > 0:\n",
        "    x_pred[i][0][:-1] = x_pred[i-1][0][1:] # pred의 이전 row의 2~7번째 데이터를 다음 row의 1~6번째 인덱스에 저장\n",
        "    x_pred[i][0][-1] = model.predict(x_pred[[i-1]]) # pred의 이전 row의 1~7번째 데이터를 이용하여 데이터 예측 후, 다음 row의 7번재 인덱스에 저장"
      ],
      "metadata": {
        "id": "Rumt-w0TJN-b"
      },
      "execution_count": 140,
      "outputs": []
    },
    {
      "cell_type": "code",
      "source": [
        "x_pred"
      ],
      "metadata": {
        "colab": {
          "base_uri": "https://localhost:8080/"
        },
        "id": "5B2kTY-u0LJH",
        "outputId": "ad0355e6-412f-4ff6-c0d7-cc0c18bd9e2d"
      },
      "execution_count": 141,
      "outputs": [
        {
          "output_type": "execute_result",
          "data": {
            "text/plain": [
              "array([[[0.47872305, 0.49148893, 0.43404245, 0.40212727, 0.3319149 ,\n",
              "         0.33829784, 0.35740611]],\n",
              "\n",
              "       [[0.49148893, 0.43404245, 0.40212727, 0.3319149 , 0.33829784,\n",
              "         0.35740611, 0.37427947]],\n",
              "\n",
              "       [[0.43404245, 0.40212727, 0.3319149 , 0.33829784, 0.35740611,\n",
              "         0.37427947, 0.39690223]],\n",
              "\n",
              "       [[0.40212727, 0.3319149 , 0.33829784, 0.35740611, 0.37427947,\n",
              "         0.39690223, 0.40661767]],\n",
              "\n",
              "       [[0.3319149 , 0.33829784, 0.35740611, 0.37427947, 0.39690223,\n",
              "         0.40661767, 0.4311991 ]],\n",
              "\n",
              "       [[0.33829784, 0.35740611, 0.37427947, 0.39690223, 0.40661767,\n",
              "         0.4311991 , 0.44732121]],\n",
              "\n",
              "       [[0.35740611, 0.37427947, 0.39690223, 0.40661767, 0.4311991 ,\n",
              "         0.44732121, 0.46402597]]])"
            ]
          },
          "metadata": {},
          "execution_count": 141
        }
      ]
    },
    {
      "cell_type": "code",
      "source": [
        ""
      ],
      "metadata": {
        "id": "8AcYW3f10LG0"
      },
      "execution_count": 141,
      "outputs": []
    },
    {
      "cell_type": "code",
      "source": [
        ""
      ],
      "metadata": {
        "id": "fSkoAT0B0LEs"
      },
      "execution_count": 141,
      "outputs": []
    },
    {
      "cell_type": "code",
      "source": [
        ""
      ],
      "metadata": {
        "id": "SDzsXfFb0LCF"
      },
      "execution_count": 141,
      "outputs": []
    },
    {
      "cell_type": "code",
      "source": [
        "x_pred[6][0]"
      ],
      "metadata": {
        "colab": {
          "base_uri": "https://localhost:8080/"
        },
        "id": "Q8uQloHNgZyF",
        "outputId": "7507b2b4-0e3a-4fb2-9174-f1723986f000"
      },
      "execution_count": 142,
      "outputs": [
        {
          "output_type": "execute_result",
          "data": {
            "text/plain": [
              "array([0.35740611, 0.37427947, 0.39690223, 0.40661767, 0.4311991 ,\n",
              "       0.44732121, 0.46402597])"
            ]
          },
          "metadata": {},
          "execution_count": 142
        }
      ]
    },
    {
      "cell_type": "code",
      "source": [
        "trainPredictPlot = np.zeros(len(dataset) + 7) # \n",
        "trainPredictPlot = trainPredictPlot.reshape(trainPredictPlot.shape[0], 1)\n",
        "trainPredictPlot[:, :] = np.nan\n",
        "trainPredictPlot[look_back:len(TrainPredict) + look_back] = TrainPredict\n",
        "    \n",
        "testPredictPlot = np.zeros(len(dataset) + 7)\n",
        "testPredictPlot = testPredictPlot.reshape(testPredictPlot.shape[0], 1)\n",
        "testPredictPlot[:, :] = np.nan\n",
        "testPredictPlot[len(TrainPredict) + (look_back) * 2 : len(dataset) , :] = TestPredict\n",
        "\n",
        "predPlot = np.zeros(len(dataset) + 7)\n",
        "predPlot = predPlot.reshape(predPlot.shape[0], 1)\n",
        "predPlot[:, :] = np.nan\n",
        "predPlot[-7:] = x_pred[6].reshape(x_pred.shape[0], 1)\n",
        "predPlot = scaler.inverse_transform(predPlot)# Min-Max변환된 값을 원래대로 되돌림\n",
        "    \n",
        "plt.figure(figsize = (20, 10))\n",
        "plt.plot(dataset, label = \"true\")\n",
        "plt.plot(trainPredictPlot, label = 'train_predict')\n",
        "plt.plot(testPredictPlot, label = 'test_predict')\n",
        "plt.plot(predPlot, label = 'pred')\n",
        "plt.legend()\n",
        "\n",
        "\n",
        "plt.show()"
      ],
      "metadata": {
        "colab": {
          "base_uri": "https://localhost:8080/",
          "height": 592
        },
        "id": "CIiRAqwTJN8J",
        "outputId": "0792ccdc-36c9-4102-e337-ad3ab304ea9e"
      },
      "execution_count": 144,
      "outputs": [
        {
          "output_type": "display_data",
          "data": {
            "image/png": "[encoded data removed]",
            "text/plain": [
              "<Figure size 1440x720 with 1 Axes>"
            ]
          },
          "metadata": {
            "needs_background": "light"
          }
        }
      ]
    },
    {
      "cell_type": "code",
      "source": [
        "x_pred"
      ],
      "metadata": {
        "colab": {
          "base_uri": "https://localhost:8080/"
        },
        "id": "XYnYz45uJN6g",
        "outputId": "58a36428-c6ae-4a72-9d22-e7b630128ed2"
      },
      "execution_count": 145,
      "outputs": [
        {
          "output_type": "execute_result",
          "data": {
            "text/plain": [
              "array([[[0.47872305, 0.49148893, 0.43404245, 0.40212727, 0.3319149 ,\n",
              "         0.33829784, 0.35740611]],\n",
              "\n",
              "       [[0.49148893, 0.43404245, 0.40212727, 0.3319149 , 0.33829784,\n",
              "         0.35740611, 0.37427947]],\n",
              "\n",
              "       [[0.43404245, 0.40212727, 0.3319149 , 0.33829784, 0.35740611,\n",
              "         0.37427947, 0.39690223]],\n",
              "\n",
              "       [[0.40212727, 0.3319149 , 0.33829784, 0.35740611, 0.37427947,\n",
              "         0.39690223, 0.40661767]],\n",
              "\n",
              "       [[0.3319149 , 0.33829784, 0.35740611, 0.37427947, 0.39690223,\n",
              "         0.40661767, 0.4311991 ]],\n",
              "\n",
              "       [[0.33829784, 0.35740611, 0.37427947, 0.39690223, 0.40661767,\n",
              "         0.4311991 , 0.44732121]],\n",
              "\n",
              "       [[0.35740611, 0.37427947, 0.39690223, 0.40661767, 0.4311991 ,\n",
              "         0.44732121, 0.46402597]]])"
            ]
          },
          "metadata": {},
          "execution_count": 145
        }
      ]
    },
    {
      "cell_type": "code",
      "source": [
        ""
      ],
      "metadata": {
        "id": "H94xo6FioT-3"
      },
      "execution_count": null,
      "outputs": []
    }
  ]
}
